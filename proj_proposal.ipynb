{
 "cells": [
  {
   "cell_type": "markdown",
   "id": "7c637350-0448-4baf-b15c-6276628f1bb7",
   "metadata": {},
   "source": [
    "# How Holistic Are the Ivy League Colleges, Really?\n",
    "The Ivy League Universities have been the coveted colleges for American and international students for decades. Notoriously difficult to gain admission into, many of these schools report on holistic (and ultimately, fair) admissions policies on their websites.\n",
    "\n",
    "However, such claims stand in direct contradiction to countless personal anecodotes and national-level news stories, such as the recent college admissions scandal. For this final project, I'd like to study the various factors which influence a student's admission into Ivy League Universities, and determine if these schools really are as holistic as they claim to be.\n",
    "\n",
    "Practically speaking, this is important because any finding that differs from the schools' official statements is important for potential applicants to know. Many young students quite literally dedicate their lives into getting into these schools. They deserve to know the truth.\n",
    "\n",
    "My overarching goal here is just to get an insight into the factors which actually influence admission (historically). Over the next week, as I explore the data more carefully (see below), I expect that I will refine my goals into 2-3 more focused research questions and associated hypotheses. As an aside, about halfway through the project, when I have enough data gathered and analyzed, I plan to propose this project as a [pitch to FiveThirtyEight](https://fivethirtyeight.com/how-to-pitch-fivethirtyeight/)."
   ]
  },
  {
   "cell_type": "markdown",
   "id": "14de2eea-9557-4d8c-8d76-b86113f4fff3",
   "metadata": {},
   "source": [
    "# Data\n",
    "I plan to use data from the [Institute of Education Sciences](https://ies.ed.gov/) (IES), which describes itself as \"the nation's leading source for rigorous, independent education research, evaluation and statistics.\" More specifically, my data will come from one of their sub-organizations, the [National Center for Education Statistics](https://nces.ed.gov/) (NCES). My data will be curated from their extensive [Integrated Postsecondary Education Data System](https://nces.ed.gov/ipeds/datacenter) (IPEDS), which allows users to select the institutions they are interested in as well as a list of variables from a huge number (quite literally hundreds) of available ones. This lends itself nicely to my overall research goals, and will help me home in on specific research questions as I explore."
   ]
  },
  {
   "cell_type": "markdown",
   "id": "dd026857-4b5e-43d9-ae76-5428f2c23566",
   "metadata": {},
   "source": [
    "## Data Terms of Use\n",
    "The data from NCES is available under the following terms of use, which users must agree to before downloading the final data set they curate:\n",
    "\n",
    "\"Under law, public use data collected and distributed by the National Center for Education Statistics (NCES) may be used only for statistical purposes. Any effort to determine the identity of any reported case by public-use data users is prohibited by law. Violations are subject to Class E felony charges of a fine up to $250,000 and/or a prison term up to 5 years.\n",
    "NCES does all it can to assure that the identity of data subjects cannot be disclosed. All direct identifiers, as well as any characteristics that might lead to identification, are omitted or modified in the dataset to protect the true characteristics of individual cases. Any intentional identification or disclosure of a person or institution violates the assurances of confidentiality given to the providers of the information. Therefore, users shall:\n",
    "\n",
    "Use the data in any dataset for statistical purposes only.\n",
    "\n",
    "Make no use of the identity of any person or institution discovered inadvertently, and advise NCES of any such discovery.\n",
    "\n",
    "Not link any dataset with individually identifiable data from other NCES or non-NCES datasets.\n",
    "To proceed you must signify your agreement to comply with the above-stated statutorily based requirements. This window will close and you can now download the file.\""
   ]
  },
  {
   "cell_type": "markdown",
   "id": "df52cce3-ce8a-4362-aed2-60b32658971d",
   "metadata": {},
   "source": [
    "## Potential Ethical Considerations\n",
    "The primary ethical consideration here, also stated in the terms of use above, is to ensure that no individual is exposed as a result of the analysis. This is especially important in the event that I end up being critical of any particular admissions practices. Luckily, the way NCES provides and stores data is already conducive to such anonymity, but I will need to be additionally careful to ensure I do not miss anything."
   ]
  },
  {
   "cell_type": "markdown",
   "id": "6abc3dcc-7432-4bd0-9a3a-204af767ee31",
   "metadata": {},
   "source": [
    "# Unknowns and Dependencies\n",
    "I am under a fair bit of pressure this quarter, as in addition to my normal class and research load, I am also finishing up an Incomplete for CSE 512 from last spring, which adds another final project to my plate. I have everything planned out and am fairly certain I should be able to complete all the work for my assigned classes within the allotted time. That said, one never knows what could happen."
   ]
  },
  {
   "cell_type": "markdown",
   "id": "25467963-6745-44fc-b2cc-530dc0369c8b",
   "metadata": {},
   "source": [
    "# Research Questions\n",
    "I plan to explore the following research questions:\n",
    "- What factors are the strongest predictors of whether or not a student is accepted into the Ivy League Universities? **Hypothesis: This is a more general question, so hard to predict exactly. But at a high level, I hypothesize that rather than a few factors will play a huge role, suggesting that admissions process is not really that holistic after all.**\n",
    "- Is there a statistically signficant correlation between various questionable factors (social class, athletic potential, donation amounts, etc. -- this will depend on the specific data variables I end up downloading) and chance of acceptance? **Hypothesis: I do think I will find a statistically significant correlation here**."
   ]
  },
  {
   "cell_type": "markdown",
   "id": "e4f94e20-e2ca-48bc-81ae-83203e687ab6",
   "metadata": {},
   "source": [
    "## Background and Related Work\n",
    "For convenience, I am listing the primary references I will use here, rather than at the end, as is traditionally done:\n",
    "1. [Wealth, Legacy, and College Admission](https://link.springer.com/article/10.1007/s12115-019-00377-2)\n",
    "2. [The Future of College Admissions: Discussion](https://link.springer.com/article/10.1007/s12115-019-00377-2)\n",
    "3. [Merit and Competition in Selective College Admissions](https://muse.jhu.edu/article/262793)\n",
    "\n",
    "Though I will undoubtedly find other relevant work as I work on the project, my reading of the three works above indicates that they provide a solid foundation to build on. This is primarily because many of the findings are related to my research questions, but still provide room for me to explore more (there doesn't seems to be exclusive focus on the Ivy Leagues in the existing work, though mention of top schools is certainly made.\n",
    "\n",
    "They additionally provide information across a fair span of time, which will help me to trace how policies have (or have not) evolved over the last two decades.\n",
    "\n",
    "Killgore splits college admissions into two types: 1) merit based, which focuses on academic and non-academic achievements, and 2) competition based, which chooses students based on organizational needs (e.g. sports teams, band, etc.) [3]. Her findings indicated that \"a) elite colleges’ maintenance of an illusion that student achievement determines admissions, and (b) that admissions practices are designed to maintain the colleges’ elite status.\" This connects to my first question, which focuses on the factors that influence admission.\n",
    "\n",
    "In the more recent 2019 paper [1], the authors explicitly state, \"Actually, the admissions scandal at Harvard and Yale, and other prestigious colleges, is just another example of how the rich and powerful make the rules or change and bend them to suit their own interests– and at the expense of ordinary people who are just trying to keep their heads above water and pay their bills.\" This seems to indicate social class does indeed play a large role in admissions.\n",
    "\n",
    "I am looking forward to building on this. I expect my final report will expand on this related work, as I will continue to explore as I work."
   ]
  },
  {
   "cell_type": "markdown",
   "id": "df1f510e-daa8-452d-b279-ee0fdbf2ac93",
   "metadata": {},
   "source": [
    "## Methodology"
   ]
  },
  {
   "cell_type": "markdown",
   "id": "6ce3c97f-10dd-41d3-b4d9-8e3fd7ceafd3",
   "metadata": {},
   "source": [
    "### Analytical Methods\n",
    "For the first question, I plan to build up a regression model in R that utilizes a bunch of different predictors, and uses various criteria (such as the Bayesian Information Criterion, BIC), that hopefully agree with one another, in order to determine the factors which contribute most to whether or not a student gets into college (this would be the prediction). I suspect it would make the most sense to split this analysis up by college.\n",
    "\n",
    "To look at the correlation between individual factors and admissions, I will use Spearman's rank correlation coefficient (a version of Pearson's correlation coefficient modified for ordinal data). The test in R reveals both the strength of the correlation and whether or not it is statistically significant based on the data)."
   ]
  },
  {
   "cell_type": "markdown",
   "id": "51ccaad5-59af-4b53-9be6-bf55e9311806",
   "metadata": {},
   "source": [
    "### Presentation Methods\n",
    "\n",
    "I will start by reporting the results of the statistical tests above formally according to HCI standards. However, as a second step, I definitely plan to visualize the findings. This is in part because I just have a predilection toward visualizing things, but also because I think the data is conducive to such representation and doing so will help the audience's understanding. Here are some potential graphs I may construct:\n",
    "\n",
    "- Scatter plots to represent various correlations (or an interactive one with the ability to choose)\n",
    "- Histograms to show the distribution of admitted students by income\n",
    "\n",
    "Finally, although not necessarily a visual presentation of the data in the same sense, I plan to be intentional about the writing style of my final report. I want to ensure it is structured as an argument and makes a case for the problems in Ivy Leagu Universities (contingent on the fact that my findings confirm this, of course). I think this writing style is important for the kind of piece I am trying to write, and will shape the overall interpretation of the data as well. It is a fine line, as I aim to be convincing and persuasive, not misleading or propaganda like in any way."
   ]
  },
  {
   "cell_type": "markdown",
   "id": "12c4cb8e-8ca5-45b6-ae34-b252f1798d98",
   "metadata": {},
   "source": [
    "### Methods Justification"
   ]
  },
  {
   "cell_type": "markdown",
   "id": "5fb1e45c-1553-48d8-b832-e9f4d6cd762d",
   "metadata": {},
   "source": [
    "I discussed this somewhat while describing the methods themselves, but I will summarize here for clarity:\n",
    "- The analytic methods fit the data well. Stepwise regression analysis is designed for the purpose of fitting a linear model with the best predictors to some output, and Spearman's coefficient is designed to determine the correlation between data that is ordered but not necessarily quantitative. This works well for my data.\n",
    "- The presentation methods, particularly the writing and the visualizations, will be conducive to the piece I am trying to write (like a FiveThirtyEight article)."
   ]
  }
 ],
 "metadata": {
  "kernelspec": {
   "display_name": "Python 3 (ipykernel)",
   "language": "python",
   "name": "python3"
  },
  "language_info": {
   "codemirror_mode": {
    "name": "ipython",
    "version": 3
   },
   "file_extension": ".py",
   "mimetype": "text/x-python",
   "name": "python",
   "nbconvert_exporter": "python",
   "pygments_lexer": "ipython3",
   "version": "3.9.7"
  }
 },
 "nbformat": 4,
 "nbformat_minor": 5
}
